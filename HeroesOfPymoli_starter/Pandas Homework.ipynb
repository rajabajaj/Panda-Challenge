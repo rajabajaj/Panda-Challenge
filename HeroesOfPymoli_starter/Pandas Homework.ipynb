import pandas as pd
import numpy as np

# File to Load (Remember to Change These)
file_to_load = "Resources/purchase_data.csv"

# Read Purchasing File and store into Pandas data frame
purchase_data = pd.read_csv(file_to_load)

#Total Players
drop_dup = purchase_data.drop_duplicates("SN")
total_players = drop_dup["SN"].count()
total_pl_df = pd.Series(
    {"Total Players :":(total_players) 
    })


#Purchasing Analysis(Total)

unique_items = len(purchase_data["Item ID"].unique())
avg_price= purchase_data["Price"].mean()
num_purch= purchase_data["Purchase ID"].count()
total_rev = purchase_data["Price"].sum()

display_lists = [{"Number of unique items":(unique_items),"Average Price": (avg_price),"Number Of Purchases" : (num_purch), "Total Revenue" : (total_rev)}]
df_summary =  pd.DataFrame(display_lists)


df_reorganized = df_summary[["Number of unique items", "Average Price", "Number Of Purchases","Total Revenue"]]
df_reorganized["Average Price"] = df_reorganized["Average Price"].map("${:.2f}".format)
df_reorganized["Total Revenue"] = df_reorganized["Total Revenue"].map("${:.2f}".format)
df_reorganized

#Gender Demographics

male = drop_dup["Gender"] == "Male"
male_count = male.sum()
female = drop_dup["Gender"] == "Female"
female_count = female.sum()
others = drop_dup["Gender"] == "Other / Non-Disclosed"
others_count = others.sum()

total_length = len(drop_dup["Gender"])

percentage_male = (male_count/total_length)*100
percentage_female = (female_count/total_length)*100
percentage_others = (others_count/total_length)*100

Gen_coun_perc_df = pd.DataFrame([
    {"Gender" : "Male", "Total Count":(male_count) ,"Percentage Count" : (percentage_male)},
    {"Gender" : "Female", "Total Count":(female_count) ,"Percentage Count" : (percentage_female)},
    {"Gender" : "Others/Non-Disclosed", "Total Count":(others_count) ,"Percentage Count" : (percentage_others)}
])
Gen_coun_perc_df = Gen_coun_perc_df[["Gender","Total Count", "Percentage Count"]]
Gen_coun_perc_df["Percentage Count"]= Gen_coun_perc_df["Percentage Count"].map("{:.2f}".format)
Gen_coun_perc_df

#Purchasing Analysis

purch_male_df = purchase_data.loc[purchase_data["Gender"] == "Male",:]
pur_count_male = (purch_male_df["Purchase ID"]).count()
purch_female_df = purchase_data.loc[purchase_data["Gender"] == "Female",:]
pur_count_female = (purch_female_df["Purchase ID"]).count()
purch_others_df = purchase_data.loc[purchase_data["Gender"] == "Other / Non-Disclosed",:]
pur_count_others = (purch_others_df["Purchase ID"]).count()

avg_pur_male = purch_male_df["Price"].mean()
avg_pur_female = purch_female_df["Price"].mean()
avg_pur_others = purch_others_df["Price"].mean()

total_pur_male = purch_male_df["Price"].sum()
total_pur_female = purch_female_df["Price"].sum()
total_pur_others = purch_others_df["Price"].sum()
avg_per_pers_male = total_pur_male/male_count
avg_per_pers_female = total_pur_female/female_count
avg_per_pers_others = total_pur_others/others_count

pur_analysis_df = pd.DataFrame([
    {"Gender" : "Male", "Purchase Count":(pur_count_male) ,"Avg Purchase Price" : (avg_pur_male), "Total Purchase" : (total_pur_male),"Avg Purchase Total Per Person":(avg_per_pers_male)},
    {"Gender" : "Female", "Purchase Count":(pur_count_female) ,"Avg Purchase Price" : (avg_pur_female), "Total Purchase" : (total_pur_female),"Avg Purchase Total Per Person":(avg_per_pers_female)},
    {"Gender" : "Others/Non-Disclosed", "Purchase Count":(pur_count_others) ,"Avg Purchase Price" : (avg_pur_others), "Total Purchase" : (total_pur_others),"Avg Purchase Total Per Person":(avg_per_pers_others)}
])
pur_analysis_df = pur_analysis_df[["Gender","Purchase Count", "Avg Purchase Price","Total Purchase", "Avg Purchase Total Per Person" ]]
pur_analysis_df["Total Purchase"]= pur_analysis_df["Total Purchase"].map("${:.2f}".format)
pur_analysis_df["Avg Purchase Price"]= pur_analysis_df["Avg Purchase Price"].map("${:.2f}".format)
pur_analysis_df["Avg Purchase Total Per Person"]= pur_analysis_df["Avg Purchase Total Per Person"].map("${:.2f}".format)
pur_analysis_df


#Age Demographics

df = drop_dup[["Age"]]

age_bin =[0,9,14,19,24,29,34,39,45]
group_name = ["<10","10-14","15-19","20-24","25-29","29-34","35-39","40+"]

df["Total Count"] = pd.cut(df["Age"], age_bin, labels=group_name)
totalcount= df.groupby("Total Count").count()["Age"].rename("")
totalpercent = totalcount/total_players*100
age_dem_df = pd.DataFrame({"Total Count": totalcount,
                          "Percentage Of Players": totalpercent
                          })
age_dem_df["Percentage Of Players"]= age_dem_df["Percentage Of Players"].map("{:.2f}".format)
age_dem_df

#Purchasing Analysis(Age)

df_age = purchase_data[["Age","Price"]]
age_bin =[0,9,14,19,24,29,34,39,45]
group_name = ["<10","10-14","15-19","20-24","25-29","29-34","35-39","40+"]
df_age["Total Count"] = pd.cut(df_age["Age"], age_bin, labels=group_name)

total_count= df_age.groupby("Total Count").count()["Age"].rename("")
average_p = df_age.groupby("Total Count").mean()["Price"].rename("Average Purchase Price")
total_p_val = df_age.groupby("Total Count").sum()["Price"].rename("Total Purchase Value")
avg_total_p = total_p_val/totalcount
pur_ana_age_df = pd.DataFrame({"Purchase Count": total_count,
                               "Average Purchase Price": average_p,
                               "Total Purchase Value" : total_p_val,
                               "Avg Total Purchase per Person" : avg_total_p
                              })
pur_ana_age_df["Average Purchase Price"]= pur_ana_age_df["Average Purchase Price"].map("${:.2f}".format)
pur_ana_age_df["Total Purchase Value"]= pur_ana_age_df["Total Purchase Value"].map("${:.2f}".format)
pur_ana_age_df["Avg Total Purchase per Person"]= pur_ana_age_df["Avg Total Purchase per Person"].map("${:.2f}".format)
pur_ana_age_df

#Top Spenders

usertotal = purchase_data.groupby(["SN"]).sum()["Price"].rename("Total Purchase Amount")
useraverage = purchase_data.groupby(["SN"]).mean()["Price"].rename("Average Purchase Price")
usercount = purchase_data.groupby(["SN"]).count()["Price"].rename("Purchase Count")

userdata = pd.DataFrame({"Total Purchase Amount": usertotal,
                          "Average Purchase Price": useraverage,
                          "Purchase Count": usercount})



top_spend_df = userdata[["Purchase Count", "Average Purchase Price","Total Purchase Amount"]]
top_spend_df["Total Purchase Amount"]= userdata["Total Purchase Amount"].map("${:.2f}".format)
top_spend_df["Average Purchase Price"]= userdata["Average Purchase Price"].map("${:.2f}".format)
top_spend_df.sort_values("Purchase Count", ascending=False).head(5)


#Most Popular items


mpi_df = purchase_data[["Item ID", "Item Name","Price"]]

group_pc = mpi_df.groupby(["Item ID", "Item Name"]).count()["Price"].rename("Purchase Count")
group_tpv = mpi_df.groupby(["Item ID", "Item Name"]).sum()["Price"].rename("Total Purchase Value")
group_ap = mpi_df.groupby(["Item ID", "Item Name"]).mean()["Price"].rename("Average Purchase Price")

most_pop_df = pd.DataFrame({"Total Purchase Value": group_tpv,
                          "Average Purchase Price": group_ap,
                          "Purchase Count": group_pc})

map_pop_df = most_pop_df[["Purchase Count", "Average Purchase Price","Total Purchase Value"]]
map_pop_df["Total Purchase Value"]= most_pop_df["Total Purchase Value"].map("${:.2f}".format)
map_pop_df["Average Purchase Price"]= most_pop_df["Average Purchase Price"].map("${:.2f}".format)
map_pop_df.sort_values("Purchase Count", ascending=False).head()


#Most Profitable items


mpi_df = purchase_data[["Item ID", "Item Name","Price"]]

group_pc = mpi_df.groupby(["Item ID", "Item Name"]).count()["Price"].rename("Purchase Count")
group_tpv = mpi_df.groupby(["Item ID", "Item Name"]).sum()["Price"].rename("Total Purchase Value")
group_ap = mpi_df.groupby(["Item ID", "Item Name"]).mean()["Price"].rename("Average Purchase Price")

most_pop_df = pd.DataFrame({"Total Purchase Value": group_tpv,
                          "Average Purchase Price": group_ap,
                          "Purchase Count": group_pc})

map_pop_df = most_pop_df[["Purchase Count", "Average Purchase Price","Total Purchase Value"]]
map_pop_df["Total Purchase Value"]= most_pop_df["Total Purchase Value"].map("${:.2f}".format)
map_pop_df["Average Purchase Price"]= most_pop_df["Average Purchase Price"].map("${:.2f}".format)
map_pop_df.sort_values("Total Purchase Value", ascending=False).head()










